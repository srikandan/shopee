{
 "cells": [
  {
   "cell_type": "markdown",
   "id": "97de5be0",
   "metadata": {},
   "source": [
    "#### * Reference: https://keras.io/examples/vision/siamese_network/"
   ]
  },
  {
   "cell_type": "code",
   "execution_count": 1,
   "id": "c2aa3491",
   "metadata": {},
   "outputs": [],
   "source": [
    "import matplotlib.pyplot as plt\n",
    "import pandas as pd\n",
    "import numpy as np\n",
    "import os\n",
    "import random\n",
    "import sys\n",
    "import sklearn as sk\n",
    "from IPython.display import Image, display\n",
    "from pathlib import Path\n",
    "from tqdm import tqdm\n",
    "import pickle\n",
    "from sklearn.neighbors import NearestNeighbors\n",
    "from sklearn.model_selection import train_test_split\n",
    "\n",
    "import tensorflow as tf\n",
    "from tensorflow.keras import applications\n",
    "from tensorflow.keras import layers\n",
    "from tensorflow.keras import losses\n",
    "from tensorflow.keras import optimizers\n",
    "from tensorflow.keras import metrics\n",
    "from tensorflow.keras import Model\n",
    "from tensorflow.keras.applications import resnet\n",
    "from tensorflow.keras.applications.resnet50 import preprocess_input\n",
    "from tensorflow.keras.models import model_from_json"
   ]
  },
  {
   "cell_type": "code",
   "execution_count": 2,
   "id": "7acc0b9a",
   "metadata": {},
   "outputs": [
    {
     "name": "stdout",
     "output_type": "stream",
     "text": [
      "Tensor Flow Version: 2.4.1\n",
      "Keras Version: 2.4.0\n",
      "Python 3.8.0 (default, Nov  6 2019, 16:00:02) [MSC v.1916 64 bit (AMD64)]\n",
      "Pandas 1.2.3\n",
      "GPU is available\n"
     ]
    }
   ],
   "source": [
    "print(f\"Tensor Flow Version: {tf.__version__}\")\n",
    "print(f\"Keras Version: {tf.keras.__version__}\")\n",
    "print(f\"Python {sys.version}\")\n",
    "print(f\"Pandas {pd.__version__}\")\n",
    "print(f\"Scikit-Learn {sk.__version__}\")\n",
    "gpu = len(tf.config.list_physical_devices('GPU'))>0\n",
    "print(\"GPU is\", \"available\" if gpu else \"NOT AVAILABLE\")"
   ]
  },
  {
   "cell_type": "code",
   "execution_count": 3,
   "id": "45db6c97",
   "metadata": {},
   "outputs": [
    {
     "data": {
      "text/html": [
       "<div>\n",
       "<style scoped>\n",
       "    .dataframe tbody tr th:only-of-type {\n",
       "        vertical-align: middle;\n",
       "    }\n",
       "\n",
       "    .dataframe tbody tr th {\n",
       "        vertical-align: top;\n",
       "    }\n",
       "\n",
       "    .dataframe thead th {\n",
       "        text-align: right;\n",
       "    }\n",
       "</style>\n",
       "<table border=\"1\" class=\"dataframe\">\n",
       "  <thead>\n",
       "    <tr style=\"text-align: right;\">\n",
       "      <th></th>\n",
       "      <th>posting_id</th>\n",
       "      <th>image</th>\n",
       "      <th>image_phash</th>\n",
       "      <th>title</th>\n",
       "      <th>label_group</th>\n",
       "    </tr>\n",
       "  </thead>\n",
       "  <tbody>\n",
       "    <tr>\n",
       "      <th>0</th>\n",
       "      <td>train_129225211</td>\n",
       "      <td>0000a68812bc7e98c42888dfb1c07da0.jpg</td>\n",
       "      <td>94974f937d4c2433</td>\n",
       "      <td>Paper Bag Victoria Secret</td>\n",
       "      <td>249114794</td>\n",
       "    </tr>\n",
       "    <tr>\n",
       "      <th>1</th>\n",
       "      <td>train_3386243561</td>\n",
       "      <td>00039780dfc94d01db8676fe789ecd05.jpg</td>\n",
       "      <td>af3f9460c2838f0f</td>\n",
       "      <td>Double Tape 3M VHB 12 mm x 4,5 m ORIGINAL / DO...</td>\n",
       "      <td>2937985045</td>\n",
       "    </tr>\n",
       "    <tr>\n",
       "      <th>2</th>\n",
       "      <td>train_2288590299</td>\n",
       "      <td>000a190fdd715a2a36faed16e2c65df7.jpg</td>\n",
       "      <td>b94cb00ed3e50f78</td>\n",
       "      <td>Maling TTS Canned Pork Luncheon Meat 397 gr</td>\n",
       "      <td>2395904891</td>\n",
       "    </tr>\n",
       "    <tr>\n",
       "      <th>3</th>\n",
       "      <td>train_2406599165</td>\n",
       "      <td>00117e4fc239b1b641ff08340b429633.jpg</td>\n",
       "      <td>8514fc58eafea283</td>\n",
       "      <td>Daster Batik Lengan pendek - Motif Acak / Camp...</td>\n",
       "      <td>4093212188</td>\n",
       "    </tr>\n",
       "    <tr>\n",
       "      <th>4</th>\n",
       "      <td>train_3369186413</td>\n",
       "      <td>00136d1cf4edede0203f32f05f660588.jpg</td>\n",
       "      <td>a6f319f924ad708c</td>\n",
       "      <td>Nescafe \\xc3\\x89clair Latte 220ml</td>\n",
       "      <td>3648931069</td>\n",
       "    </tr>\n",
       "  </tbody>\n",
       "</table>\n",
       "</div>"
      ],
      "text/plain": [
       "         posting_id                                 image       image_phash  \\\n",
       "0   train_129225211  0000a68812bc7e98c42888dfb1c07da0.jpg  94974f937d4c2433   \n",
       "1  train_3386243561  00039780dfc94d01db8676fe789ecd05.jpg  af3f9460c2838f0f   \n",
       "2  train_2288590299  000a190fdd715a2a36faed16e2c65df7.jpg  b94cb00ed3e50f78   \n",
       "3  train_2406599165  00117e4fc239b1b641ff08340b429633.jpg  8514fc58eafea283   \n",
       "4  train_3369186413  00136d1cf4edede0203f32f05f660588.jpg  a6f319f924ad708c   \n",
       "\n",
       "                                               title  label_group  \n",
       "0                          Paper Bag Victoria Secret    249114794  \n",
       "1  Double Tape 3M VHB 12 mm x 4,5 m ORIGINAL / DO...   2937985045  \n",
       "2        Maling TTS Canned Pork Luncheon Meat 397 gr   2395904891  \n",
       "3  Daster Batik Lengan pendek - Motif Acak / Camp...   4093212188  \n",
       "4                  Nescafe \\xc3\\x89clair Latte 220ml   3648931069  "
      ]
     },
     "execution_count": 3,
     "metadata": {},
     "output_type": "execute_result"
    }
   ],
   "source": [
    "df = pd.read_csv('./Dataset/train.csv')\n",
    "df.head()"
   ]
  },
  {
   "cell_type": "code",
   "execution_count": 4,
   "id": "65bd1240",
   "metadata": {},
   "outputs": [
    {
     "data": {
      "text/html": [
       "<div>\n",
       "<style scoped>\n",
       "    .dataframe tbody tr th:only-of-type {\n",
       "        vertical-align: middle;\n",
       "    }\n",
       "\n",
       "    .dataframe tbody tr th {\n",
       "        vertical-align: top;\n",
       "    }\n",
       "\n",
       "    .dataframe thead th {\n",
       "        text-align: right;\n",
       "    }\n",
       "</style>\n",
       "<table border=\"1\" class=\"dataframe\">\n",
       "  <thead>\n",
       "    <tr style=\"text-align: right;\">\n",
       "      <th></th>\n",
       "      <th>anchor</th>\n",
       "      <th>positive</th>\n",
       "      <th>negative</th>\n",
       "    </tr>\n",
       "  </thead>\n",
       "  <tbody>\n",
       "    <tr>\n",
       "      <th>0</th>\n",
       "      <td>1d7aadc7503b2b4539cc9a5fe41979dd.jpg</td>\n",
       "      <td>3301b8aaccea93d1098995ffbc537335.jpg</td>\n",
       "      <td>076f457afa2e1ef8ee007b4789ed0473.jpg</td>\n",
       "    </tr>\n",
       "    <tr>\n",
       "      <th>1</th>\n",
       "      <td>1d7aadc7503b2b4539cc9a5fe41979dd.jpg</td>\n",
       "      <td>eec692257e74fcbc6cb63cb76d0f20e7.jpg</td>\n",
       "      <td>6e67961a76a784af596481de0edbefc9.jpg</td>\n",
       "    </tr>\n",
       "  </tbody>\n",
       "</table>\n",
       "</div>"
      ],
      "text/plain": [
       "                                 anchor                              positive  \\\n",
       "0  1d7aadc7503b2b4539cc9a5fe41979dd.jpg  3301b8aaccea93d1098995ffbc537335.jpg   \n",
       "1  1d7aadc7503b2b4539cc9a5fe41979dd.jpg  eec692257e74fcbc6cb63cb76d0f20e7.jpg   \n",
       "\n",
       "                               negative  \n",
       "0  076f457afa2e1ef8ee007b4789ed0473.jpg  \n",
       "1  6e67961a76a784af596481de0edbefc9.jpg  "
      ]
     },
     "execution_count": 4,
     "metadata": {},
     "output_type": "execute_result"
    }
   ],
   "source": [
    "imgs_df = pd.read_csv('triplets_imgs_data_3.csv')\n",
    "imgs_df = imgs_df.drop(columns=['pos_lbl_grp', 'neg_lbl_grp'])\n",
    "imgs_df.head(2)"
   ]
  },
  {
   "cell_type": "code",
   "execution_count": 5,
   "id": "48d6263c",
   "metadata": {},
   "outputs": [
    {
     "data": {
      "text/html": [
       "<div>\n",
       "<style scoped>\n",
       "    .dataframe tbody tr th:only-of-type {\n",
       "        vertical-align: middle;\n",
       "    }\n",
       "\n",
       "    .dataframe tbody tr th {\n",
       "        vertical-align: top;\n",
       "    }\n",
       "\n",
       "    .dataframe thead th {\n",
       "        text-align: right;\n",
       "    }\n",
       "</style>\n",
       "<table border=\"1\" class=\"dataframe\">\n",
       "  <thead>\n",
       "    <tr style=\"text-align: right;\">\n",
       "      <th></th>\n",
       "      <th>anchor</th>\n",
       "      <th>positive</th>\n",
       "      <th>negative</th>\n",
       "      <th>pos_lbl_grp</th>\n",
       "      <th>neg_lbl_grp</th>\n",
       "    </tr>\n",
       "  </thead>\n",
       "  <tbody>\n",
       "    <tr>\n",
       "      <th>0</th>\n",
       "      <td>e925873ed09cd08f</td>\n",
       "      <td>e9b5833e929e909c</td>\n",
       "      <td>e679998c9b328e8c</td>\n",
       "      <td>258047</td>\n",
       "      <td>2269100299</td>\n",
       "    </tr>\n",
       "    <tr>\n",
       "      <th>1</th>\n",
       "      <td>e925873ed09cd08f</td>\n",
       "      <td>ea97861c926a71e3</td>\n",
       "      <td>ab5af9da9290da48</td>\n",
       "      <td>258047</td>\n",
       "      <td>2911345952</td>\n",
       "    </tr>\n",
       "  </tbody>\n",
       "</table>\n",
       "</div>"
      ],
      "text/plain": [
       "             anchor          positive          negative  pos_lbl_grp  \\\n",
       "0  e925873ed09cd08f  e9b5833e929e909c  e679998c9b328e8c       258047   \n",
       "1  e925873ed09cd08f  ea97861c926a71e3  ab5af9da9290da48       258047   \n",
       "\n",
       "   neg_lbl_grp  \n",
       "0   2269100299  \n",
       "1   2911345952  "
      ]
     },
     "execution_count": 5,
     "metadata": {},
     "output_type": "execute_result"
    }
   ],
   "source": [
    "img_phash_df = pd.read_csv('triplets_img_phash_data_3.csv')\n",
    "img_phash_df.head(2)"
   ]
  },
  {
   "cell_type": "code",
   "execution_count": 6,
   "id": "14eef97f",
   "metadata": {},
   "outputs": [
    {
     "data": {
      "text/html": [
       "<div>\n",
       "<style scoped>\n",
       "    .dataframe tbody tr th:only-of-type {\n",
       "        vertical-align: middle;\n",
       "    }\n",
       "\n",
       "    .dataframe tbody tr th {\n",
       "        vertical-align: top;\n",
       "    }\n",
       "\n",
       "    .dataframe thead th {\n",
       "        text-align: right;\n",
       "    }\n",
       "</style>\n",
       "<table border=\"1\" class=\"dataframe\">\n",
       "  <thead>\n",
       "    <tr style=\"text-align: right;\">\n",
       "      <th></th>\n",
       "      <th>anchor</th>\n",
       "      <th>positive</th>\n",
       "      <th>negative</th>\n",
       "      <th>pos_lbl_grp</th>\n",
       "      <th>neg_lbl_grp</th>\n",
       "    </tr>\n",
       "  </thead>\n",
       "  <tbody>\n",
       "    <tr>\n",
       "      <th>0</th>\n",
       "      <td>Sarung celana wadimor original 100% dewasa dan...</td>\n",
       "      <td>SARUNG CELANA WADIMOR DEWASA HITAM POLOS SARCEL</td>\n",
       "      <td>NACIFIC FRESH HERB ORIGIN CLEANSING FOAM 150ML</td>\n",
       "      <td>258047</td>\n",
       "      <td>2269100299</td>\n",
       "    </tr>\n",
       "    <tr>\n",
       "      <th>1</th>\n",
       "      <td>Sarung celana wadimor original 100% dewasa dan...</td>\n",
       "      <td>WARNA RANDOM ACAK Sarung Celana Wadimor MURAH ...</td>\n",
       "      <td>GORDEN SMOKRING + PONI MOTIF EMBOSS POLOS WARN...</td>\n",
       "      <td>258047</td>\n",
       "      <td>2911345952</td>\n",
       "    </tr>\n",
       "  </tbody>\n",
       "</table>\n",
       "</div>"
      ],
      "text/plain": [
       "                                              anchor  \\\n",
       "0  Sarung celana wadimor original 100% dewasa dan...   \n",
       "1  Sarung celana wadimor original 100% dewasa dan...   \n",
       "\n",
       "                                            positive  \\\n",
       "0    SARUNG CELANA WADIMOR DEWASA HITAM POLOS SARCEL   \n",
       "1  WARNA RANDOM ACAK Sarung Celana Wadimor MURAH ...   \n",
       "\n",
       "                                            negative  pos_lbl_grp  neg_lbl_grp  \n",
       "0     NACIFIC FRESH HERB ORIGIN CLEANSING FOAM 150ML       258047   2269100299  \n",
       "1  GORDEN SMOKRING + PONI MOTIF EMBOSS POLOS WARN...       258047   2911345952  "
      ]
     },
     "execution_count": 6,
     "metadata": {},
     "output_type": "execute_result"
    }
   ],
   "source": [
    "title_df = pd.read_csv('triplets_title_data_3.csv')\n",
    "title_df.head(2)"
   ]
  },
  {
   "cell_type": "code",
   "execution_count": 7,
   "id": "de7ead9d",
   "metadata": {},
   "outputs": [],
   "source": [
    "images_path = os.getcwd() + '\\\\Dataset\\\\train_images'\n",
    "image_phash_path = os.getcwd() + '\\\\Dataset\\\\train_images'\n",
    "title_phash_path = os.getcwd() + '\\\\Dataset\\\\train_images'"
   ]
  },
  {
   "cell_type": "markdown",
   "id": "a78a5c79",
   "metadata": {},
   "source": [
    "#### * Generating Image embeddings: "
   ]
  },
  {
   "cell_type": "code",
   "execution_count": 8,
   "id": "8408aa6b",
   "metadata": {},
   "outputs": [],
   "source": [
    "target_shape = (128, 128)\n",
    "batch_size = 128"
   ]
  },
  {
   "cell_type": "code",
   "execution_count": 9,
   "id": "9bc833b4",
   "metadata": {},
   "outputs": [],
   "source": [
    "def preprocess_image(filename):\n",
    "    image_string = tf.io.read_file(filename)\n",
    "    image = tf.image.decode_jpeg(image_string, channels=3)\n",
    "    image = tf.image.convert_image_dtype(image, tf.float32)\n",
    "    image = tf.image.resize(image, target_shape)\n",
    "    return image\n",
    "\n",
    "def preprocess_triplets(anchor, positive, negative):\n",
    "    return (\n",
    "        preprocess_image(anchor),\n",
    "        preprocess_image(positive),\n",
    "        preprocess_image(negative),\n",
    "    )"
   ]
  },
  {
   "cell_type": "code",
   "execution_count": 10,
   "id": "d06b42fd",
   "metadata": {},
   "outputs": [
    {
     "name": "stdout",
     "output_type": "stream",
     "text": [
      "<TensorSliceDataset shapes: (), types: tf.string> <TensorSliceDataset shapes: (), types: tf.string> <TensorSliceDataset shapes: (), types: tf.string>\n"
     ]
    }
   ],
   "source": [
    "anchor_images = [images_path+'\\\\'+i for i in list(imgs_df['anchor'])]\n",
    "positive_images = [images_path+'\\\\'+i for i in list(imgs_df['positive'])]\n",
    "negative_images = [images_path+'\\\\'+i for i in list(imgs_df['negative'])]\n",
    "\n",
    "anchor_dataset = tf.data.Dataset.from_tensor_slices(anchor_images)\n",
    "positive_dataset = tf.data.Dataset.from_tensor_slices(positive_images)\n",
    "negative_dataset = tf.data.Dataset.from_tensor_slices(negative_images)\n",
    "\n",
    "print(anchor_dataset, positive_dataset, negative_dataset)"
   ]
  },
  {
   "cell_type": "code",
   "execution_count": 11,
   "id": "844d3526",
   "metadata": {},
   "outputs": [
    {
     "name": "stdout",
     "output_type": "stream",
     "text": [
      "<MapDataset shapes: ((128, 128, 3), (128, 128, 3), (128, 128, 3)), types: (tf.float32, tf.float32, tf.float32)>\n"
     ]
    }
   ],
   "source": [
    "dataset = tf.data.Dataset.zip((anchor_dataset, positive_dataset, negative_dataset))\n",
    "dataset = dataset.shuffle(buffer_size=1024)\n",
    "dataset = dataset.map(preprocess_triplets)\n",
    "print(dataset)"
   ]
  },
  {
   "cell_type": "code",
   "execution_count": 12,
   "id": "a3f1e38d",
   "metadata": {},
   "outputs": [
    {
     "name": "stdout",
     "output_type": "stream",
     "text": [
      "<CacheDataset shapes: ((None, 128, 128, 3), (None, 128, 128, 3), (None, 128, 128, 3)), types: (tf.float32, tf.float32, tf.float32)> \n",
      " <CacheDataset shapes: ((None, 128, 128, 3), (None, 128, 128, 3), (None, 128, 128, 3)), types: (tf.float32, tf.float32, tf.float32)>\n"
     ]
    }
   ],
   "source": [
    "image_count = len(anchor_images)\n",
    "\n",
    "train_dataset = dataset.take(round(image_count * 0.7)).batch(batch_size, drop_remainder=False)\n",
    "train_dataset = train_dataset.prefetch(8)\n",
    "train_dataset = train_dataset.cache()\n",
    "\n",
    "val_dataset = dataset.skip(round(image_count * 0.7)).batch(batch_size, drop_remainder=False)\n",
    "val_dataset = val_dataset.prefetch(8)\n",
    "val_dataset = val_dataset.cache()\n",
    "\n",
    "print(train_dataset, '\\n', val_dataset)"
   ]
  },
  {
   "cell_type": "code",
   "execution_count": 13,
   "id": "5ca3cd84",
   "metadata": {},
   "outputs": [
    {
     "data": {
      "image/png": "[encoded data removed]",
      "text/plain": [
       "<Figure size 648x648 with 18 Axes>"
      ]
     },
     "metadata": {
      "needs_background": "light"
     },
     "output_type": "display_data"
    }
   ],
   "source": [
    "def visualize(anchor, positive, negative):\n",
    "    def show(ax, image):\n",
    "        ax.imshow(image)\n",
    "        ax.get_xaxis().set_visible(False)\n",
    "        ax.get_yaxis().set_visible(False)\n",
    "\n",
    "    fig = plt.figure(figsize=(9, 9))\n",
    "\n",
    "    axs = fig.subplots(6, 3)\n",
    "    for i in range(6):\n",
    "        show(axs[i, 0], anchor[i])\n",
    "        show(axs[i, 1], positive[i])\n",
    "        show(axs[i, 2], negative[i])\n",
    "\n",
    "\n",
    "visualize(*list(train_dataset.take(1).as_numpy_iterator())[0])"
   ]
  },
  {
   "cell_type": "code",
   "execution_count": 14,
   "id": "5766de39",
   "metadata": {},
   "outputs": [],
   "source": [
    "base_cnn = resnet.ResNet50(weights=\"imagenet\", input_shape=target_shape + (3,), include_top=False, pooling='avg')\n",
    "dropout = layers.Dropout(0.2, input_shape=(2,))(base_cnn.output)\n",
    "output = layers.Dense(512, activation=\"linear\")(dropout)\n",
    "\n",
    "trainable = False\n",
    "for layer in base_cnn.layers:\n",
    "    if layer.name == \"conv5_block1_out\":\n",
    "        trainable = True\n",
    "    layer.trainable = trainable\n",
    "    \n",
    "embedding = Model([base_cnn.input], output, name=\"Embedding\")"
   ]
  },
  {
   "cell_type": "code",
   "execution_count": 15,
   "id": "39da1293",
   "metadata": {},
   "outputs": [],
   "source": [
    "class DistanceLayer(layers.Layer):\n",
    "    def __init__(self, **kwargs):\n",
    "        super().__init__(**kwargs)\n",
    "\n",
    "    def call(self, anchor, positive, negative):\n",
    "        ap_distance = tf.reduce_sum(tf.square(anchor - positive), -1)\n",
    "        an_distance = tf.reduce_sum(tf.square(anchor - negative), -1)\n",
    "        return (ap_distance, an_distance)\n",
    "    \n",
    "anchor_input = layers.Input(name=\"anchor\", shape=target_shape + (3,))\n",
    "positive_input = layers.Input(name=\"positive\", shape=target_shape + (3,))\n",
    "negative_input = layers.Input(name=\"negative\", shape=target_shape + (3,))\n",
    "\n",
    "distances = DistanceLayer()(\n",
    "    embedding(resnet.preprocess_input(anchor_input)),\n",
    "    embedding(resnet.preprocess_input(positive_input)),\n",
    "    embedding(resnet.preprocess_input(negative_input)),\n",
    ")\n",
    "\n",
    "\n",
    "siamese_network = Model(\n",
    "    inputs=[anchor_input, positive_input, negative_input], outputs=distances\n",
    ")"
   ]
  },
  {
   "cell_type": "code",
   "execution_count": 16,
   "id": "17948e5f",
   "metadata": {},
   "outputs": [
    {
     "name": "stdout",
     "output_type": "stream",
     "text": [
      "Model: \"model\"\n",
      "__________________________________________________________________________________________________\n",
      "Layer (type)                    Output Shape         Param #     Connected to                     \n",
      "==================================================================================================\n",
      "anchor (InputLayer)             [(None, 128, 128, 3) 0                                            \n",
      "__________________________________________________________________________________________________\n",
      "positive (InputLayer)           [(None, 128, 128, 3) 0                                            \n",
      "__________________________________________________________________________________________________\n",
      "negative (InputLayer)           [(None, 128, 128, 3) 0                                            \n",
      "__________________________________________________________________________________________________\n",
      "tf.__operators__.getitem (Slici (None, 128, 128, 3)  0           anchor[0][0]                     \n",
      "__________________________________________________________________________________________________\n",
      "tf.__operators__.getitem_1 (Sli (None, 128, 128, 3)  0           positive[0][0]                   \n",
      "__________________________________________________________________________________________________\n",
      "tf.__operators__.getitem_2 (Sli (None, 128, 128, 3)  0           negative[0][0]                   \n",
      "__________________________________________________________________________________________________\n",
      "tf.nn.bias_add (TFOpLambda)     (None, 128, 128, 3)  0           tf.__operators__.getitem[0][0]   \n",
      "__________________________________________________________________________________________________\n",
      "tf.nn.bias_add_1 (TFOpLambda)   (None, 128, 128, 3)  0           tf.__operators__.getitem_1[0][0] \n",
      "__________________________________________________________________________________________________\n",
      "tf.nn.bias_add_2 (TFOpLambda)   (None, 128, 128, 3)  0           tf.__operators__.getitem_2[0][0] \n",
      "__________________________________________________________________________________________________\n",
      "Embedding (Functional)          (None, 512)          24636800    tf.nn.bias_add[0][0]             \n",
      "                                                                 tf.nn.bias_add_1[0][0]           \n",
      "                                                                 tf.nn.bias_add_2[0][0]           \n",
      "__________________________________________________________________________________________________\n",
      "distance_layer (DistanceLayer)  ((None,), (None,))   0           Embedding[0][0]                  \n",
      "                                                                 Embedding[1][0]                  \n",
      "                                                                 Embedding[2][0]                  \n",
      "==================================================================================================\n",
      "Total params: 24,636,800\n",
      "Trainable params: 9,980,416\n",
      "Non-trainable params: 14,656,384\n",
      "__________________________________________________________________________________________________\n"
     ]
    }
   ],
   "source": [
    "siamese_network.summary()"
   ]
  },
  {
   "cell_type": "code",
   "execution_count": 17,
   "id": "558fa8bb",
   "metadata": {},
   "outputs": [
    {
     "data": {
      "image/png": "[encoded data removed]",
      "text/plain": [
       "<IPython.core.display.Image object>"
      ]
     },
     "execution_count": 17,
     "metadata": {},
     "output_type": "execute_result"
    }
   ],
   "source": [
    "tf.keras.utils.plot_model(siamese_network)"
   ]
  },
  {
   "cell_type": "code",
   "execution_count": 18,
   "id": "8fdc7363",
   "metadata": {},
   "outputs": [],
   "source": [
    "class SiameseModel(Model):\n",
    "    def __init__(self, siamese_network, margin=0.5):\n",
    "        super(SiameseModel, self).__init__()\n",
    "        self.siamese_network = siamese_network\n",
    "        self.margin = margin\n",
    "        self.loss_tracker = metrics.Mean(name=\"loss\")\n",
    "\n",
    "    def call(self, inputs):\n",
    "        return self.siamese_network(inputs)\n",
    "\n",
    "    def train_step(self, data):\n",
    "        with tf.GradientTape() as tape:\n",
    "            loss = self._compute_loss(data)\n",
    "        gradients = tape.gradient(loss, self.siamese_network.trainable_weights)\n",
    "        self.optimizer.apply_gradients(\n",
    "            zip(gradients, self.siamese_network.trainable_weights)\n",
    "        )\n",
    "        self.loss_tracker.update_state(loss)\n",
    "        return {\"loss\": self.loss_tracker.result()}\n",
    "\n",
    "    def test_step(self, data):\n",
    "        loss = self._compute_loss(data)\n",
    "        self.loss_tracker.update_state(loss)\n",
    "        return {\"loss\": self.loss_tracker.result()}\n",
    "\n",
    "    def _compute_loss(self, data):\n",
    "        ap_distance, an_distance = self.siamese_network(data)\n",
    "        loss = ap_distance - an_distance\n",
    "        loss = tf.maximum(loss + self.margin, 0.0)\n",
    "        return loss\n",
    "\n",
    "    @property\n",
    "    def metrics(self):\n",
    "        return [self.loss_tracker]"
   ]
  },
  {
   "cell_type": "code",
   "execution_count": 19,
   "id": "d0786403",
   "metadata": {},
   "outputs": [],
   "source": [
    "earlystop = tf.keras.callbacks.EarlyStopping(monitor='loss', patience=3)"
   ]
  },
  {
   "cell_type": "code",
   "execution_count": 20,
   "id": "cc8d09f8",
   "metadata": {},
   "outputs": [
    {
     "name": "stdout",
     "output_type": "stream",
     "text": [
      "Epoch 1/50\n",
      "181/181 [==============================] - 909s 5s/step - loss: 0.1350 - val_loss: 0.1176\n",
      "Epoch 2/50\n",
      "181/181 [==============================] - 61s 338ms/step - loss: 0.1060 - val_loss: 0.1129\n",
      "Epoch 3/50\n",
      "181/181 [==============================] - 63s 349ms/step - loss: 0.0932 - val_loss: 0.1083\n",
      "Epoch 4/50\n",
      "181/181 [==============================] - 62s 341ms/step - loss: 0.0827 - val_loss: 0.1058\n",
      "Epoch 5/50\n",
      "181/181 [==============================] - 62s 345ms/step - loss: 0.0716 - val_loss: 0.1108\n",
      "Epoch 6/50\n",
      "181/181 [==============================] - 63s 348ms/step - loss: 0.0630 - val_loss: 0.1152\n",
      "Epoch 7/50\n",
      "181/181 [==============================] - 62s 346ms/step - loss: 0.0578 - val_loss: 0.1165\n",
      "Epoch 8/50\n",
      "181/181 [==============================] - 63s 351ms/step - loss: 0.0507 - val_loss: 0.1295\n",
      "Epoch 9/50\n",
      "181/181 [==============================] - 65s 358ms/step - loss: 0.0460 - val_loss: 0.1197\n",
      "Epoch 10/50\n",
      "181/181 [==============================] - 63s 349ms/step - loss: 0.0425 - val_loss: 0.1239\n",
      "Epoch 11/50\n",
      "181/181 [==============================] - 63s 349ms/step - loss: 0.0361 - val_loss: 0.1358\n",
      "Epoch 12/50\n",
      "181/181 [==============================] - 64s 356ms/step - loss: 0.0336 - val_loss: 0.1400\n",
      "Epoch 13/50\n",
      "181/181 [==============================] - 64s 354ms/step - loss: 0.0303 - val_loss: 0.1435\n",
      "Epoch 14/50\n",
      "181/181 [==============================] - 62s 342ms/step - loss: 0.0282 - val_loss: 0.1461\n",
      "Epoch 15/50\n",
      "181/181 [==============================] - 63s 350ms/step - loss: 0.0272 - val_loss: 0.1517\n",
      "Epoch 16/50\n",
      "181/181 [==============================] - 63s 350ms/step - loss: 0.0254 - val_loss: 0.1439\n",
      "Epoch 17/50\n",
      "181/181 [==============================] - 63s 347ms/step - loss: 0.0257 - val_loss: 0.1534\n",
      "Epoch 18/50\n",
      "181/181 [==============================] - 61s 338ms/step - loss: 0.0228 - val_loss: 0.1546\n",
      "Epoch 19/50\n",
      "181/181 [==============================] - 62s 342ms/step - loss: 0.0206 - val_loss: 0.1484\n",
      "Epoch 20/50\n",
      "181/181 [==============================] - 64s 353ms/step - loss: 0.0179 - val_loss: 0.1602\n",
      "Epoch 21/50\n",
      "181/181 [==============================] - 62s 344ms/step - loss: 0.0175 - val_loss: 0.1644\n",
      "Epoch 22/50\n",
      "181/181 [==============================] - 61s 338ms/step - loss: 0.0147 - val_loss: 0.1692\n",
      "Epoch 23/50\n",
      "181/181 [==============================] - 61s 339ms/step - loss: 0.0165 - val_loss: 0.1768\n",
      "Epoch 24/50\n",
      "181/181 [==============================] - 63s 351ms/step - loss: 0.0141 - val_loss: 0.1885\n",
      "Epoch 25/50\n",
      "181/181 [==============================] - 63s 349ms/step - loss: 0.0143 - val_loss: 0.1814\n",
      "Epoch 26/50\n",
      "181/181 [==============================] - 63s 349ms/step - loss: 0.0127 - val_loss: 0.1908\n",
      "Epoch 27/50\n",
      "181/181 [==============================] - 63s 351ms/step - loss: 0.0122 - val_loss: 0.1911\n",
      "Epoch 28/50\n",
      "181/181 [==============================] - 63s 347ms/step - loss: 0.0105 - val_loss: 0.1937\n",
      "Epoch 29/50\n",
      "181/181 [==============================] - 62s 341ms/step - loss: 0.0105 - val_loss: 0.1987\n",
      "Epoch 30/50\n",
      "181/181 [==============================] - 62s 343ms/step - loss: 0.0095 - val_loss: 0.2020\n",
      "Epoch 31/50\n",
      "181/181 [==============================] - 62s 344ms/step - loss: 0.0086 - val_loss: 0.2035\n",
      "Epoch 32/50\n",
      "181/181 [==============================] - 63s 347ms/step - loss: 0.0080 - val_loss: 0.2225\n",
      "Epoch 33/50\n",
      "181/181 [==============================] - 63s 346ms/step - loss: 0.0095 - val_loss: 0.2048\n",
      "Epoch 34/50\n",
      "181/181 [==============================] - 63s 347ms/step - loss: 0.0087 - val_loss: 0.2083\n",
      "Epoch 35/50\n",
      "181/181 [==============================] - 61s 339ms/step - loss: 0.0079 - val_loss: 0.1986\n",
      "Epoch 36/50\n",
      "181/181 [==============================] - 63s 349ms/step - loss: 0.0065 - val_loss: 0.2203\n",
      "Epoch 37/50\n",
      "181/181 [==============================] - 62s 341ms/step - loss: 0.0076 - val_loss: 0.2065\n",
      "Epoch 38/50\n",
      "181/181 [==============================] - 63s 346ms/step - loss: 0.0068 - val_loss: 0.2114\n",
      "Epoch 39/50\n",
      "181/181 [==============================] - 64s 356ms/step - loss: 0.0058 - val_loss: 0.2346\n",
      "Epoch 40/50\n",
      "181/181 [==============================] - 62s 345ms/step - loss: 0.0060 - val_loss: 0.2310\n",
      "Epoch 41/50\n",
      "181/181 [==============================] - 61s 339ms/step - loss: 0.0054 - val_loss: 0.2456\n",
      "Epoch 42/50\n",
      "181/181 [==============================] - 62s 342ms/step - loss: 0.0060 - val_loss: 0.2505\n",
      "Epoch 43/50\n",
      "181/181 [==============================] - 61s 338ms/step - loss: 0.0064 - val_loss: 0.2521\n",
      "Epoch 44/50\n",
      "181/181 [==============================] - 61s 338ms/step - loss: 0.0050 - val_loss: 0.2597\n",
      "Epoch 45/50\n",
      "181/181 [==============================] - 62s 345ms/step - loss: 0.0052 - val_loss: 0.2417\n",
      "Epoch 46/50\n",
      "181/181 [==============================] - 61s 338ms/step - loss: 0.0057 - val_loss: 0.2454\n",
      "Epoch 47/50\n",
      "181/181 [==============================] - 62s 341ms/step - loss: 0.0061 - val_loss: 0.2715\n",
      "Epoch 48/50\n",
      "181/181 [==============================] - 63s 350ms/step - loss: 0.0058 - val_loss: 0.2497\n",
      "Epoch 49/50\n",
      "181/181 [==============================] - 63s 349ms/step - loss: 0.0047 - val_loss: 0.2462\n",
      "Epoch 50/50\n",
      "181/181 [==============================] - 63s 346ms/step - loss: 0.0047 - val_loss: 0.2516\n"
     ]
    },
    {
     "data": {
      "text/plain": [
       "<tensorflow.python.keras.callbacks.History at 0x1b260bdb0a0>"
      ]
     },
     "execution_count": 20,
     "metadata": {},
     "output_type": "execute_result"
    }
   ],
   "source": [
    "siamese_model = SiameseModel(siamese_network)\n",
    "siamese_model.compile(optimizer=optimizers.Adam(0.0001))\n",
    "siamese_model.fit(train_dataset, epochs=50, validation_data=val_dataset, callbacks=[earlystop], verbose=1)"
   ]
  },
  {
   "cell_type": "code",
   "execution_count": 33,
   "id": "a1c11a39",
   "metadata": {},
   "outputs": [],
   "source": [
    "embedding_json = siamese_model.siamese_network.get_layer('Embedding').to_json()\n",
    "\n",
    "with open('embedding_model.json','w') as json_file:\n",
    "    json_file.write(embedding_json)\n",
    "    \n",
    "siamese_model.siamese_network.get_layer('Embedding').save_weights('embedding_wtgs.h5')"
   ]
  },
  {
   "cell_type": "code",
   "execution_count": 27,
   "id": "3aa2ae64",
   "metadata": {},
   "outputs": [],
   "source": [
    "json_file = open('embedding_model.json', 'r')\n",
    "loaded_model_json = json_file.read()\n",
    "json_file.close()\n",
    "\n",
    "ld_embedding_model = model_from_json(loaded_model_json)\n",
    "\n",
    "ld_embedding_model.load_weights(\"embedding_wtgs.h5\")"
   ]
  },
  {
   "cell_type": "code",
   "execution_count": 32,
   "id": "e6954447",
   "metadata": {},
   "outputs": [
    {
     "name": "stderr",
     "output_type": "stream",
     "text": [
      "100%|████████████████████████████████████████████████████████████████████████████████| 100/100 [00:26<00:00,  3.73it/s]"
     ]
    },
    {
     "name": "stdout",
     "output_type": "stream",
     "text": [
      "Mean Pos. 0.987128\n",
      "Mean Neg. 0.9870373\n"
     ]
    },
    {
     "name": "stderr",
     "output_type": "stream",
     "text": [
      "\n"
     ]
    }
   ],
   "source": [
    "iterator = iter(train_dataset)\n",
    "cosine_similarity = metrics.CosineSimilarity()\n",
    "\n",
    "pos_sim = []\n",
    "neg_sim = []\n",
    "\n",
    "for i in tqdm(range(100)):\n",
    "    sample = next(iterator)\n",
    "#     visualize(*sample)\n",
    "    \n",
    "    anchor, positive, negative = sample\n",
    "    anchor_embedding, positive_embedding, negative_embedding = (\n",
    "        ld_embedding_model(preprocess_input(anchor)),\n",
    "        ld_embedding_model(preprocess_input(positive)),\n",
    "        ld_embedding_model(preprocess_input(negative)),\n",
    "    )\n",
    "    \n",
    "    positive_similarity = cosine_similarity(anchor_embedding, positive_embedding)\n",
    "    pos_sim.append(positive_similarity)\n",
    "#     print(\"Positive similarity:\", positive_similarity.numpy())\n",
    "    \n",
    "    negative_similarity = cosine_similarity(anchor_embedding, negative_embedding)\n",
    "    neg_sim.append(negative_similarity)\n",
    "#     print(\"Negative similarity\", negative_similarity.numpy())\n",
    "    \n",
    "print('Mean Pos.', np.median(pos_sim))\n",
    "print('Mean Neg.', np.median(neg_sim))"
   ]
  },
  {
   "cell_type": "code",
   "execution_count": null,
   "id": "93ddd4a9",
   "metadata": {},
   "outputs": [],
   "source": [
    "img_values = (images_path + '\\\\' + df['image']).values\n",
    "predict_embeddings = []\n",
    "\n",
    "for i in tqdm(img_values):\n",
    "    img = tf.reshape(preprocess_image(i), (-1,) + target_shape + (3,))\n",
    "    predict_embeddings.append(embedding(resnet.preprocess_input(img)))"
   ]
  },
  {
   "cell_type": "code",
   "execution_count": null,
   "id": "fe35c83e",
   "metadata": {},
   "outputs": [],
   "source": [
    "with open('predict_embeddings.pkl','wb') as f:\n",
    "    pickle.dump(predict_embeddings, f)"
   ]
  },
  {
   "cell_type": "code",
   "execution_count": null,
   "id": "0c0bc059",
   "metadata": {},
   "outputs": [],
   "source": [
    "# with open('predict_embeddings.pkl','rb') as f:\n",
    "#     predict_embeddings = pickle.load(f)"
   ]
  },
  {
   "cell_type": "code",
   "execution_count": null,
   "id": "0f785375",
   "metadata": {},
   "outputs": [],
   "source": [
    "predict_vectors = np.vstack(predict_embeddings)"
   ]
  },
  {
   "cell_type": "code",
   "execution_count": null,
   "id": "ce06bb2b",
   "metadata": {},
   "outputs": [],
   "source": [
    "res_df = df.copy()\n",
    "res_df.head(2)"
   ]
  },
  {
   "cell_type": "code",
   "execution_count": null,
   "id": "30829dd3",
   "metadata": {},
   "outputs": [],
   "source": [
    "knn_model = NearestNeighbors(n_neighbors=50, metric='cosine')\n",
    "knn_model.fit(predict_vectors)"
   ]
  },
  {
   "cell_type": "code",
   "execution_count": null,
   "id": "37755827",
   "metadata": {},
   "outputs": [],
   "source": [
    "# Reference: https://www.kaggle.com/cdeotte/part-2-rapids-tfidfvectorizer-cv-0-700\n",
    "\n",
    "preds = []\n",
    "CHUNK = 1024*4\n",
    "\n",
    "print('Finding similar images...')\n",
    "\n",
    "CTS = len(predict_vectors)//CHUNK\n",
    "\n",
    "if len(predict_vectors)%CHUNK!=0: \n",
    "    CTS += 1\n",
    "    \n",
    "for j in range(CTS):\n",
    "    a = j*CHUNK\n",
    "    b = (j+1)*CHUNK\n",
    "    b = min(b,len(predict_vectors))\n",
    "    print('chunk',a,'to',b)\n",
    "    distances, indices = knn_model.kneighbors(predict_vectors[a:b,])\n",
    "    for k in range(b-a):\n",
    "        IDX = np.where(distances[k,]<0.001)[0]\n",
    "        IDS = indices[k,IDX]\n",
    "        o = res_df.iloc[IDS].posting_id.values\n",
    "        preds.append(o)"
   ]
  },
  {
   "cell_type": "code",
   "execution_count": null,
   "id": "5ebb3de6",
   "metadata": {},
   "outputs": [],
   "source": [
    "res_df['pred'] = preds\n",
    "res_df.head()"
   ]
  },
  {
   "cell_type": "code",
   "execution_count": null,
   "id": "46f1b2cd",
   "metadata": {},
   "outputs": [],
   "source": [
    "test_df = pd.read_csv('./Dataset/test.csv')\n",
    "test_df.head()"
   ]
  },
  {
   "cell_type": "code",
   "execution_count": null,
   "id": "94ef3044",
   "metadata": {},
   "outputs": [],
   "source": [
    "test_images_path = os.getcwd() + '\\\\Dataset\\\\test_images'\n",
    "\n",
    "test_img_values = (test_images_path + '\\\\' + test_df['image']).values\n",
    "test_predict_embeddings = []\n",
    "\n",
    "for i in tqdm(test_img_values):\n",
    "    img = tf.reshape(preprocess_image(i), (-1,) + target_shape + (3,))\n",
    "    test_predict_embeddings.append(embedding(resnet.preprocess_input(img)))"
   ]
  },
  {
   "cell_type": "code",
   "execution_count": null,
   "id": "341fbbb1",
   "metadata": {},
   "outputs": [],
   "source": [
    "test_predict_vectors = np.vstack(test_predict_embeddings)"
   ]
  },
  {
   "cell_type": "code",
   "execution_count": null,
   "id": "573b9955",
   "metadata": {},
   "outputs": [],
   "source": [
    "test_knn_model = NearestNeighbors(n_neighbors=2, metric='cosine')\n",
    "test_knn_model.fit(test_predict_vectors)"
   ]
  },
  {
   "cell_type": "code",
   "execution_count": null,
   "id": "8b61aabd",
   "metadata": {},
   "outputs": [],
   "source": [
    "# Reference: https://www.kaggle.com/cdeotte/part-2-rapids-tfidfvectorizer-cv-0-700\n",
    "\n",
    "test_preds = []\n",
    "CHUNK = 1024*4\n",
    "\n",
    "print('Finding similar images...')\n",
    "\n",
    "CTS = len(test_predict_vectors)//CHUNK\n",
    "\n",
    "if len(test_predict_vectors)%CHUNK!=0:\n",
    "    CTS += 1\n",
    "    \n",
    "for j in range( CTS ):\n",
    "    a = j*CHUNK\n",
    "    b = (j+1)*CHUNK\n",
    "    b = min(b,len(test_predict_vectors))\n",
    "    print('chunk',a,'to',b)\n",
    "    distances, indices = test_knn_model.kneighbors(test_predict_vectors[a:b,])\n",
    "    \n",
    "    for k in range(b-a):\n",
    "        IDX = np.where(distances[k,] <0.001)[0]\n",
    "        IDS = indices[k,IDX]\n",
    "        o = test_df.iloc[IDS].posting_id.values\n",
    "        test_preds.append(o)"
   ]
  },
  {
   "cell_type": "code",
   "execution_count": null,
   "id": "fd8dfc58",
   "metadata": {},
   "outputs": [],
   "source": [
    "test_df['pred'] = test_preds\n",
    "test_df.head()"
   ]
  },
  {
   "cell_type": "code",
   "execution_count": null,
   "id": "e8de1def",
   "metadata": {},
   "outputs": [],
   "source": [
    "def get_matches(x):\n",
    "    print(x)\n",
    "    return (' '.join(x))\n",
    "\n",
    "test_df['pred'] = test_df['pred'].apply(lambda x : get_matches(x))"
   ]
  },
  {
   "cell_type": "code",
   "execution_count": null,
   "id": "86f0c7f3",
   "metadata": {},
   "outputs": [],
   "source": [
    "submission = pd.DataFrame(list(zip(list(test_df['posting_id']), list(test_df['pred']))), columns=['posting_id', 'matches'])\n",
    "submission.head()"
   ]
  },
  {
   "cell_type": "code",
   "execution_count": null,
   "id": "6c3cbd59",
   "metadata": {},
   "outputs": [],
   "source": [
    "submission.to_csv('submission.csv', index=False)"
   ]
  },
  {
   "cell_type": "code",
   "execution_count": null,
   "id": "8828b83f",
   "metadata": {},
   "outputs": [],
   "source": [
    "submission = pd.read_csv('submission.csv')\n",
    "submission.head()"
   ]
  },
  {
   "cell_type": "code",
   "execution_count": null,
   "id": "331796b2",
   "metadata": {},
   "outputs": [],
   "source": []
  }
 ],
 "metadata": {
  "kernelspec": {
   "display_name": "Python 3",
   "language": "python",
   "name": "python3"
  },
  "language_info": {
   "codemirror_mode": {
    "name": "ipython",
    "version": 3
   },
   "file_extension": ".py",
   "mimetype": "text/x-python",
   "name": "python",
   "nbconvert_exporter": "python",
   "pygments_lexer": "ipython3",
   "version": "3.8.0"
  }
 },
 "nbformat": 4,
 "nbformat_minor": 5
}
